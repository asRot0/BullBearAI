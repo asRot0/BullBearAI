{
 "cells": [
  {
   "cell_type": "code",
   "execution_count": null,
   "id": "ef8151eb",
   "metadata": {},
   "outputs": [],
   "source": [
    "import os\n",
    "import pandas as pd\n",
    "import matplotlib.pyplot as plt\n",
    "\n",
    "from train_model import ModelTrainer"
   ]
  },
  {
   "cell_type": "code",
   "execution_count": null,
   "id": "1036fb24",
   "metadata": {},
   "outputs": [],
   "source": [
    "data_path = \"../../data/processed/processed_stock_data.csv\"\n",
    "path = '../../data/interim/engineered_features.csv'\n",
    "df = pd.read_csv(path, parse_dates=[\"Date\"])\n",
    "\n",
    "df.set_index(\"Date\", inplace=True)\n",
    "\n",
    "df.tail()"
   ]
  },
  {
   "cell_type": "code",
   "execution_count": null,
   "id": "70c4ec49",
   "metadata": {},
   "outputs": [],
   "source": [
    "df.info()"
   ]
  },
  {
   "cell_type": "code",
   "execution_count": null,
   "id": "7a22b5ee",
   "metadata": {},
   "outputs": [],
   "source": [
    "df.columns"
   ]
  },
  {
   "cell_type": "code",
   "execution_count": null,
   "id": "eb2a6cc1",
   "metadata": {},
   "outputs": [],
   "source": [
    "feature_cols = [\"Close/Last\", 'Target_Close_Next_Day', 'Daily_Return', 'SMA_10', 'EMA_10', 'RSI_14', 'MACD', 'Bollinger_Upper']\n",
    "target_col = \"Target_Close_Next_Day\""
   ]
  },
  {
   "cell_type": "code",
   "execution_count": null,
   "id": "6cd82ca6",
   "metadata": {},
   "outputs": [],
   "source": [
    "models = ['cnn', 'lstm', 'hybrid']\n",
    "\n",
    "results = []"
   ]
  },
  {
   "cell_type": "code",
   "execution_count": null,
   "id": "1efc688a",
   "metadata": {},
   "outputs": [],
   "source": [
    "for model_name in models:\n",
    "    print(f\"\\nTraining {model_name.upper()} model...\")\n",
    "    trainer = ModelTrainer(\n",
    "        model_name=model_name,\n",
    "        feature_cols=feature_cols,\n",
    "        target_col=target_col,\n",
    "        test_size=0.2,\n",
    "        val_size=0.1\n",
    "    )\n",
    "    model_results = trainer.train_and_evaluate(df)\n",
    "    model_results[\"Model\"] = model_name.upper()\n",
    "    results.append(model_results)\n",
    "print('---->>')"
   ]
  },
  {
   "cell_type": "code",
   "execution_count": null,
   "id": "78d9ccbb",
   "metadata": {},
   "outputs": [],
   "source": [
    "results_df = pd.DataFrame(results)\n",
    "display(results_df)\n",
    "# print(results_df.info())\n",
    "\n",
    "# Save results\n",
    "# results_df.to_csv(\"results/model_comparison.csv\", index=False)"
   ]
  },
  {
   "cell_type": "code",
   "execution_count": null,
   "id": "68e04989",
   "metadata": {},
   "outputs": [],
   "source": [
    "plt.figure(figsize=(5,4))\n",
    "plt.bar(results_df[\"Model\"], results_df[\"RMSE\"])\n",
    "plt.title(\"Model Comparison - RMSE\")\n",
    "plt.xlabel(\"Models\")\n",
    "plt.ylabel(\"RMSE\")\n",
    "plt.show()\n",
    "\n",
    "plt.figure(figsize=(5,4))\n",
    "plt.bar(results_df[\"Model\"], results_df[\"MAE\"])\n",
    "plt.title(\"Model Comparison - MAE Score\")\n",
    "plt.xlabel(\"Models\")\n",
    "plt.ylabel(\"MAE\")\n",
    "plt.show()"
   ]
  },
  {
   "cell_type": "code",
   "execution_count": null,
   "id": "7a9584da",
   "metadata": {},
   "outputs": [],
   "source": []
  }
 ],
 "metadata": {
  "kernelspec": {
   "display_name": "Python 3 (ipykernel)",
   "language": "python",
   "name": "python3"
  },
  "language_info": {
   "codemirror_mode": {
    "name": "ipython",
    "version": 3
   },
   "file_extension": ".py",
   "mimetype": "text/x-python",
   "name": "python",
   "nbconvert_exporter": "python",
   "pygments_lexer": "ipython3",
   "version": "3.9.4"
  }
 },
 "nbformat": 4,
 "nbformat_minor": 5
}
